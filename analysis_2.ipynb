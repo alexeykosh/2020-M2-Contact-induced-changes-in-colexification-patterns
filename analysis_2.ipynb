{
 "cells": [
  {
   "cell_type": "code",
   "execution_count": 22,
   "metadata": {},
   "outputs": [],
   "source": [
    "from sklearn.model_selection import train_test_split, GridSearchCV, StratifiedKFold, RepeatedKFold\n",
    "from sklearn.ensemble import GradientBoostingClassifier\n",
    "from sklearn.metrics import accuracy_score, f1_score, roc_auc_score, recall_score\n",
    "from sklearn.model_selection import cross_validate\n",
    "from sklearn.metrics.cluster import contingency_matrix\n",
    "from statsmodels.stats.contingency_tables import mcnemar\n",
    "from sklearn.pipeline import Pipeline\n",
    "from sklearn.impute import SimpleImputer\n",
    "from sklearn.preprocessing import StandardScaler, OneHotEncoder\n",
    "from sklearn.compose import make_column_selector as selector\n",
    "from sklearn.compose import ColumnTransformer\n",
    "from sklearn.manifold import TSNE\n",
    "from sklearn.decomposition import TruncatedSVD\n",
    "import scipy.stats as st\n",
    "from sklearn.inspection import permutation_importance\n",
    "\n",
    "import pandas as pd \n",
    "import matplotlib.pyplot as plt\n",
    "from matplotlib.lines import Line2D\n",
    "import numpy as np\n",
    "from itertools import chain, combinations\n",
    "import networkx as nx\n",
    "from collections import Counter\n",
    "import seaborn as sns\n",
    "from tqdm import tqdm_notebook as tqdm\n",
    "import os"
   ]
  },
  {
   "cell_type": "markdown",
   "metadata": {},
   "source": [
    "https://numba.pydata.org/"
   ]
  },
  {
   "cell_type": "code",
   "execution_count": 48,
   "metadata": {},
   "outputs": [],
   "source": [
    "categorical_transformer = OneHotEncoder(handle_unknown='ignore', sparse=False)\n",
    "preprocessor = ColumnTransformer(transformers=[\n",
    "    ('impute', 'passthrough', selector(dtype_include='float64')),\n",
    "    ('cat', categorical_transformer, selector(dtype_include=\"object\"))\n",
    "])"
   ]
  },
  {
   "cell_type": "code",
   "execution_count": 24,
   "metadata": {},
   "outputs": [],
   "source": [
    "powerset = lambda s: [list(x)\n",
    "                      for x in list(chain.from_iterable(combinations(s, r) \n",
    "                                                        for r in range(len(s)+1)))[1::]]"
   ]
  },
  {
   "cell_type": "code",
   "execution_count": 25,
   "metadata": {},
   "outputs": [],
   "source": [
    "def get_colex_lang(language, dataframe, conc=None):\n",
    "    if not conc:\n",
    "        conc = dataframe[dataframe['Name_y'] == language][\n",
    "            'Concepticon_Gloss'].unique()\n",
    "    conc_matrix = pd.DataFrame(np.zeros((len(conc), len(conc))), columns=conc,\n",
    "                               index=conc)\n",
    "    lang_df = dataframe[(dataframe['Concepticon_Gloss'].isin(conc)) & (\n",
    "                dataframe['Name_y'] == language)]\n",
    "    d = dict()\n",
    "    for i, values in lang_df[['Form', 'Concepticon_Gloss']].iterrows():\n",
    "        if values['Form'] not in d.keys():\n",
    "            d[values['Form']] = [values['Concepticon_Gloss']]\n",
    "        else:\n",
    "            d[values['Form']].append(values['Concepticon_Gloss'])\n",
    "    colex_values = []\n",
    "    for i, j in d.items():\n",
    "        if len(j) == 2:\n",
    "            conc_matrix.at[[j[0]], [j[1]]] = 1\n",
    "            conc_matrix.at[[j[1]], [j[0]]] = 1\n",
    "            colex_values += [j]\n",
    "        elif len(j) > 2:\n",
    "            for comb in [_ for _ in combinations(j, 2)]:\n",
    "                conc_matrix.at[[comb[0]], [comb[1]]] = 1\n",
    "                conc_matrix.at[[comb[1]], [comb[0]]] = 1\n",
    "                colex_values += [comb]\n",
    "    colex_values_r = []\n",
    "    colex_values_field = []\n",
    "    for pair in colex_values:\n",
    "        colex_values_r.append(pair[::-1])\n",
    "    return conc_matrix.values, colex_values"
   ]
  },
  {
   "cell_type": "markdown",
   "metadata": {},
   "source": [
    "### 1. Get data"
   ]
  },
  {
   "cell_type": "code",
   "execution_count": 26,
   "metadata": {},
   "outputs": [
    {
     "data": {
      "text/plain": [
       "105"
      ]
     },
     "execution_count": 26,
     "metadata": {},
     "output_type": "execute_result"
    }
   ],
   "source": [
    "forms = pd.read_csv(\n",
    "    '/Users/alexey1/Documents/GitHub/'\n",
    "    'lexibank-northeuralex-a189844/cldf/forms.csv')\n",
    "params = pd.read_csv(\n",
    "    '/Users/alexey1/Documents/GitHub/'\n",
    "    'lexibank-northeuralex-a189844/cldf/parameters.csv')\n",
    "languages = pd.read_csv(\n",
    "    '/Users/alexey1/Documents/GitHub/'\n",
    "    'lexibank-northeuralex-a189844/cldf/languages.csv')\n",
    "complete = pd.merge(left=forms.set_index('Parameter_ID'),\n",
    "                    right=params.set_index('ID'),\n",
    "                    left_index=True, right_index=True)\n",
    "complete_nel = pd.merge(left=complete.set_index('Language_ID'),\n",
    "                        right=languages.set_index('ID'), left_index=True,\n",
    "                        right_index=True)\n",
    "complete_nel = complete_nel.dropna(subset=['Latitude', 'Longitude'])\n",
    "complete_nel = complete_nel.dropna(subset=['Concepticon_Gloss'])\n",
    "complete_nel = complete_nel[\n",
    "    ~complete_nel.Name_y.isin(['Latin', 'Standard Arabic'])]\n",
    "complete_nel.head(4)\n",
    "len(complete_nel['Name_y'].unique())"
   ]
  },
  {
   "cell_type": "markdown",
   "metadata": {},
   "source": [
    "### 2. Make the dataset"
   ]
  },
  {
   "cell_type": "markdown",
   "metadata": {},
   "source": [
    "Counting the colexifications and making the colexification repertoire dictionary:"
   ]
  },
  {
   "cell_type": "code",
   "execution_count": 4,
   "metadata": {},
   "outputs": [],
   "source": [
    "all_colex_langs = []\n",
    "all_colex = []\n",
    "\n",
    "for lang in complete_nel.Name_y.unique():\n",
    "    all_colex += ['{} + {}'.format(i[0], i[1]) \n",
    "                     for i in get_colex_lang(lang,\n",
    "                                             complete_nel)[1]]\n",
    "    all_colex_langs.append((lang, ['{} + {}'.format(i[0], i[1]) \n",
    "                                   for i in get_colex_lang(lang, complete_nel)[1]]))\n",
    "c_colex = Counter(all_colex)"
   ]
  },
  {
   "cell_type": "code",
   "execution_count": 5,
   "metadata": {},
   "outputs": [],
   "source": [
    "colex_df = pd.DataFrame(columns=list(c_colex), index=complete_nel.Name_y.unique())\n",
    "colex_df = colex_df.fillna(0)\n",
    "\n",
    "for lang in all_colex_langs:\n",
    "    for colexification in lang[1]:\n",
    "        colex_df[colexification][lang[0]] = 1"
   ]
  },
  {
   "cell_type": "markdown",
   "metadata": {},
   "source": [
    "Making the neighbor graph:"
   ]
  },
  {
   "cell_type": "code",
   "execution_count": 6,
   "metadata": {},
   "outputs": [],
   "source": [
    "distance_m = pd.read_csv('new_km_dist.csv', index_col='Unnamed: 0')\n",
    "distance_m = distance_m.mask(distance_m <= 1000, 1)\n",
    "distance_m = distance_m.mask(distance_m > 1000, 0)\n",
    "G = nx.from_pandas_adjacency(distance_m)\n",
    "label_mapping = {idx: val for idx, val in enumerate(distance_m.columns)}\n",
    "G = nx.relabel_nodes(G, label_mapping)"
   ]
  },
  {
   "cell_type": "code",
   "execution_count": 7,
   "metadata": {},
   "outputs": [
    {
     "data": {
      "text/plain": [
       "2"
      ]
     },
     "execution_count": 7,
     "metadata": {},
     "output_type": "execute_result"
    }
   ],
   "source": [
    "len(nx.shortest_path(G, source='Russian', target='Veps'))"
   ]
  },
  {
   "cell_type": "code",
   "execution_count": 8,
   "metadata": {},
   "outputs": [
    {
     "data": {
      "text/html": [
       "<div>\n",
       "<style scoped>\n",
       "    .dataframe tbody tr th:only-of-type {\n",
       "        vertical-align: middle;\n",
       "    }\n",
       "\n",
       "    .dataframe tbody tr th {\n",
       "        vertical-align: top;\n",
       "    }\n",
       "\n",
       "    .dataframe thead th {\n",
       "        text-align: right;\n",
       "    }\n",
       "</style>\n",
       "<table border=\"1\" class=\"dataframe\">\n",
       "  <thead>\n",
       "    <tr style=\"text-align: right;\">\n",
       "      <th></th>\n",
       "      <th>Unnamed: 0</th>\n",
       "      <th>Unnamed: 0.1</th>\n",
       "      <th>Language 1</th>\n",
       "      <th>Language 2</th>\n",
       "      <th>Pair</th>\n",
       "      <th>N_sh_colex</th>\n",
       "      <th>N_sh_concepts</th>\n",
       "      <th>Distance</th>\n",
       "      <th>Same_family</th>\n",
       "      <th>Same_genus</th>\n",
       "      <th>WMCD</th>\n",
       "      <th>Population_difference</th>\n",
       "      <th>Sum_of_n_colex</th>\n",
       "      <th>Jackard</th>\n",
       "      <th>Population_difference_log</th>\n",
       "      <th>Family_1</th>\n",
       "      <th>Family_2</th>\n",
       "    </tr>\n",
       "  </thead>\n",
       "  <tbody>\n",
       "    <tr>\n",
       "      <th>0</th>\n",
       "      <td>0</td>\n",
       "      <td>0</td>\n",
       "      <td>Abkhaz</td>\n",
       "      <td>Adyghe</td>\n",
       "      <td>Abkhaz + Adyghe</td>\n",
       "      <td>23</td>\n",
       "      <td>902</td>\n",
       "      <td>199.830288</td>\n",
       "      <td>yes</td>\n",
       "      <td>no</td>\n",
       "      <td>0.061816</td>\n",
       "      <td>385790.0</td>\n",
       "      <td>267</td>\n",
       "      <td>0.094262</td>\n",
       "      <td>12.863048</td>\n",
       "      <td>Abkhaz-Adyge</td>\n",
       "      <td>Abkhaz-Adyge</td>\n",
       "    </tr>\n",
       "    <tr>\n",
       "      <th>1</th>\n",
       "      <td>1</td>\n",
       "      <td>1</td>\n",
       "      <td>Abkhaz</td>\n",
       "      <td>Hokkaido Ainu</td>\n",
       "      <td>Abkhaz + Hokkaido Ainu</td>\n",
       "      <td>9</td>\n",
       "      <td>849</td>\n",
       "      <td>7612.530408</td>\n",
       "      <td>no</td>\n",
       "      <td>no</td>\n",
       "      <td>0.025323</td>\n",
       "      <td>190108.0</td>\n",
       "      <td>258</td>\n",
       "      <td>0.036145</td>\n",
       "      <td>12.155348</td>\n",
       "      <td>Abkhaz-Adyge</td>\n",
       "      <td>Ainu</td>\n",
       "    </tr>\n",
       "    <tr>\n",
       "      <th>2</th>\n",
       "      <td>2</td>\n",
       "      <td>2</td>\n",
       "      <td>Abkhaz</td>\n",
       "      <td>Aleut</td>\n",
       "      <td>Abkhaz + Aleut</td>\n",
       "      <td>15</td>\n",
       "      <td>890</td>\n",
       "      <td>8899.674611</td>\n",
       "      <td>no</td>\n",
       "      <td>no</td>\n",
       "      <td>0.043326</td>\n",
       "      <td>189960.0</td>\n",
       "      <td>244</td>\n",
       "      <td>0.065502</td>\n",
       "      <td>12.154569</td>\n",
       "      <td>Abkhaz-Adyge</td>\n",
       "      <td>Eskimo-Aleut</td>\n",
       "    </tr>\n",
       "  </tbody>\n",
       "</table>\n",
       "</div>"
      ],
      "text/plain": [
       "   Unnamed: 0  Unnamed: 0.1 Language 1     Language 2                    Pair  \\\n",
       "0           0             0     Abkhaz         Adyghe         Abkhaz + Adyghe   \n",
       "1           1             1     Abkhaz  Hokkaido Ainu  Abkhaz + Hokkaido Ainu   \n",
       "2           2             2     Abkhaz          Aleut          Abkhaz + Aleut   \n",
       "\n",
       "   N_sh_colex  N_sh_concepts     Distance Same_family Same_genus      WMCD  \\\n",
       "0          23            902   199.830288         yes         no  0.061816   \n",
       "1           9            849  7612.530408          no         no  0.025323   \n",
       "2          15            890  8899.674611          no         no  0.043326   \n",
       "\n",
       "   Population_difference  Sum_of_n_colex   Jackard  Population_difference_log  \\\n",
       "0               385790.0             267  0.094262                  12.863048   \n",
       "1               190108.0             258  0.036145                  12.155348   \n",
       "2               189960.0             244  0.065502                  12.154569   \n",
       "\n",
       "       Family_1      Family_2  \n",
       "0  Abkhaz-Adyge  Abkhaz-Adyge  \n",
       "1  Abkhaz-Adyge          Ainu  \n",
       "2  Abkhaz-Adyge  Eskimo-Aleut  "
      ]
     },
     "execution_count": 8,
     "metadata": {},
     "output_type": "execute_result"
    }
   ],
   "source": [
    "inital_dataset = pd.read_csv('new_results_updated_plus_fam.csv')\n",
    "inital_dataset.head(3)"
   ]
  },
  {
   "cell_type": "code",
   "execution_count": 9,
   "metadata": {},
   "outputs": [],
   "source": [
    "def shortest_path(a, b):\n",
    "    try:\n",
    "        return len(nx.shortest_path(G, source=a, target=b))\n",
    "    except:\n",
    "        return 0"
   ]
  },
  {
   "cell_type": "code",
   "execution_count": 10,
   "metadata": {},
   "outputs": [],
   "source": [
    "inital_dataset['graph_distance'] = inital_dataset.apply(lambda x: \n",
    "                                                        shortest_path(x['Language 1'],\n",
    "                                                                      x['Language 2']),\n",
    "                                                        axis=1)"
   ]
  },
  {
   "cell_type": "code",
   "execution_count": 11,
   "metadata": {},
   "outputs": [
    {
     "data": {
      "text/plain": [
       "<AxesSubplot:xlabel='graph_distance', ylabel='WMCD'>"
      ]
     },
     "execution_count": 11,
     "metadata": {},
     "output_type": "execute_result"
    },
    {
     "data": {
      "image/png": "[encoded data removed]",
      "text/plain": [
       "<Figure size 432x288 with 1 Axes>"
      ]
     },
     "metadata": {
      "needs_background": "light"
     },
     "output_type": "display_data"
    }
   ],
   "source": [
    "sns.scatterplot(data=inital_dataset[inital_dataset['graph_distance'] > 0], x='graph_distance', y='WMCD')\n",
    "sns.regplot(data=inital_dataset[inital_dataset['graph_distance'] > 0], x='graph_distance', y='WMCD', scatter=False)"
   ]
  },
  {
   "cell_type": "code",
   "execution_count": 12,
   "metadata": {},
   "outputs": [],
   "source": [
    "inital_dataset.to_csv('new_results_updated_plus_fam_dist.csv')"
   ]
  },
  {
   "cell_type": "markdown",
   "metadata": {},
   "source": [
    "Define the NPM metric function:"
   ]
  },
  {
   "cell_type": "code",
   "execution_count": 13,
   "metadata": {},
   "outputs": [],
   "source": [
    "def NPM(lang, feature):\n",
    "    res = []\n",
    "    for lang_ in colex_df.index[colex_df[feature] == 1].tolist():\n",
    "        try:\n",
    "            res.append(1/2**len(nx.shortest_path(G, source=lang, target=lang_)))\n",
    "        except:\n",
    "            pass\n",
    "    return sum(res)"
   ]
  },
  {
   "cell_type": "markdown",
   "metadata": {},
   "source": [
    "Building the inventory dataset: "
   ]
  },
  {
   "cell_type": "code",
   "execution_count": 309,
   "metadata": {},
   "outputs": [
    {
     "name": "stderr",
     "output_type": "stream",
     "text": [
      "<ipython-input-309-1ac71442c60d>:1: TqdmDeprecationWarning: This function will be removed in tqdm==5.0.0\n",
      "Please use `tqdm.notebook.tqdm` instead of `tqdm.tqdm_notebook`\n",
      "  with tqdm(total=10) as pbar:\n"
     ]
    },
    {
     "data": {
      "application/vnd.jupyter.widget-view+json": {
       "model_id": "94c87da7190745d5adf36fc50ecb3c15",
       "version_major": 2,
       "version_minor": 0
      },
      "text/plain": [
       "HBox(children=(FloatProgress(value=0.0, max=10.0), HTML(value='')))"
      ]
     },
     "metadata": {},
     "output_type": "display_data"
    },
    {
     "name": "stdout",
     "output_type": "stream",
     "text": [
      "\n"
     ]
    }
   ],
   "source": [
    "with tqdm(total=10) as pbar:\n",
    "    for n in range(1, 11):\n",
    "        n = n*100\n",
    "        if os.path.exists('NPM_datasets/NPM_distribution_{}.csv'.format(n)):\n",
    "            pass\n",
    "        else:\n",
    "#         if n == 1000:\n",
    "#             # from 1000 to maximum values with at least 2 occurences:\n",
    "#             n = 1098\n",
    "            npm = []\n",
    "            f = []\n",
    "            sf = []\n",
    "            feature = []\n",
    "            lang = []\n",
    "            prob = []\n",
    "            present = []\n",
    "\n",
    "            # 1098 \n",
    "\n",
    "            for colex in [_[0] for _ in c_colex.most_common(n)]:\n",
    "                lgs = colex_df.index[colex_df[colex] == 1].tolist()\n",
    "                for l in colex_df.index.tolist():\n",
    "                    npm.append(NPM(l, colex))\n",
    "                    f.append(complete_nel[complete_nel['Name_y'] == l].Family.unique()[0])\n",
    "                    sf.append(complete_nel[complete_nel['Name_y'] == l].Subfamily.unique()[0])\n",
    "                    feature.append(colex)\n",
    "                    lang.append(l)\n",
    "                    prob.append(c_colex.get(colex)/105)\n",
    "                    if l in lgs:\n",
    "                        present.append(1)\n",
    "                    else:\n",
    "                        present.append(0)\n",
    "\n",
    "            results_npm = pd.DataFrame({'Feature': feature, \n",
    "                                        'Language': lang, \n",
    "                                        'NPM': npm, \n",
    "                                        'Family': f, \n",
    "                                        'Subfamily': sf,\n",
    "                                        'Prob': prob, 'Present': present})\n",
    "\n",
    "            results_npm.to_csv('NPM_datasets/NPM_distribution_{}.csv'.format(n))\n",
    "            pbar.update(1)"
   ]
  },
  {
   "cell_type": "markdown",
   "metadata": {},
   "source": [
    "Rank vs. average NPM value for each language"
   ]
  },
  {
   "cell_type": "code",
   "execution_count": 30,
   "metadata": {},
   "outputs": [],
   "source": [
    "results_npm = pd.read_csv('NPM_datasets/NPM_distribution_100.csv', index_col = 0)\n",
    "x = 100"
   ]
  },
  {
   "cell_type": "code",
   "execution_count": 31,
   "metadata": {},
   "outputs": [
    {
     "data": {
      "text/plain": [
       "(-10.0, 110.0)"
      ]
     },
     "execution_count": 31,
     "metadata": {},
     "output_type": "execute_result"
    },
    {
     "data": {
      "image/png": "[encoded data removed]",
      "text/plain": [
       "<Figure size 504x360 with 1 Axes>"
      ]
     },
     "metadata": {
      "needs_background": "light"
     },
     "output_type": "display_data"
    }
   ],
   "source": [
    "combined = results_npm.groupby('Feature').mean().reset_index()  \n",
    "combined = combined.sort_values(by='NPM', ascending=False).reset_index().drop(['index'], axis=1)\n",
    "combined['Log_NPM'] = np.log(combined['NPM'])\n",
    "\n",
    "plt.figure(figsize=(7, 5))\n",
    "plt.grid()\n",
    "plt.scatter([_ for _ in range(x)], combined['NPM'], color='black', alpha=1, s=10)\n",
    "plt.xlabel('Rank')\n",
    "plt.ylabel('NPM')\n",
    "plt.xlim(-10, x+10)"
   ]
  },
  {
   "cell_type": "markdown",
   "metadata": {},
   "source": [
    "Probability vs. average NPM value for each language"
   ]
  },
  {
   "cell_type": "code",
   "execution_count": 32,
   "metadata": {},
   "outputs": [
    {
     "data": {
      "image/png": "[encoded data removed]",
      "text/plain": [
       "<Figure size 504x360 with 1 Axes>"
      ]
     },
     "metadata": {
      "needs_background": "light"
     },
     "output_type": "display_data"
    }
   ],
   "source": [
    "plt.figure(figsize=(7, 5))\n",
    "plt.scatter(combined['Prob'], combined['NPM'], alpha=0.5, s=15)\n",
    "sns.regplot(data=combined, x='Prob', y='NPM', scatter=False, color='black')\n",
    "plt.ylabel('Average NPM')\n",
    "plt.xlabel('Probability')\n",
    "plt.grid()"
   ]
  },
  {
   "cell_type": "markdown",
   "metadata": {},
   "source": [
    "Probability of occurence vs. NPM"
   ]
  },
  {
   "cell_type": "code",
   "execution_count": 45,
   "metadata": {},
   "outputs": [
    {
     "data": {
      "image/png": "[encoded data removed]",
      "text/plain": [
       "<Figure size 504x360 with 1 Axes>"
      ]
     },
     "metadata": {
      "needs_background": "light"
     },
     "output_type": "display_data"
    }
   ],
   "source": [
    "plt.figure(figsize=(7, 5))\n",
    "sns.kdeplot(x=results_npm['Prob'], y=results_npm['NPM'], fill=True, thresh=0.1, levels=20)\n",
    "# plt.scatter(results_npm['Prob'], results_npm['NPM'], s=1, color='red', alpha=0.1)\n",
    "plt.ylabel('NPM')\n",
    "plt.xlabel('Probability')\n",
    "plt.grid()"
   ]
  },
  {
   "cell_type": "markdown",
   "metadata": {},
   "source": [
    "### 3. Model training"
   ]
  },
  {
   "cell_type": "code",
   "execution_count": 310,
   "metadata": {},
   "outputs": [],
   "source": [
    "def mc_nemar_test(true_values, model1_pred, model2_pred):\n",
    "    results = pd.DataFrame({'True': true_values, 'Clf_1': model1_pred, 'Clf_2': model2_pred})\n",
    "    results.loc[results['True'] == results.Clf_1, 'Clf_1_correct'] = 1\n",
    "    results.loc[results['True'] != results.Clf_1, 'Clf_1_correct'] = 0\n",
    "    results.loc[results['True'] == results.Clf_2, 'Clf_2_correct'] = 1\n",
    "    results.loc[results['True'] != results.Clf_2, 'Clf_2_correct'] = 0\n",
    "    return mcnemar(contingency_matrix(results['Clf_2_correct'],\n",
    "                                      results['Clf_1_correct']),\n",
    "                   correction=True)"
   ]
  },
  {
   "cell_type": "code",
   "execution_count": 312,
   "metadata": {},
   "outputs": [],
   "source": [
    "X = results_npm.drop(['Present', 'Feature', 'Language'], axis=1)\n",
    "y = results_npm['Present']"
   ]
  },
  {
   "cell_type": "code",
   "execution_count": 314,
   "metadata": {},
   "outputs": [
    {
     "data": {
      "text/plain": [
       "Index(['NPM', 'Family', 'Subfamily', 'Prob'], dtype='object')"
      ]
     },
     "execution_count": 314,
     "metadata": {},
     "output_type": "execute_result"
    }
   ],
   "source": [
    "X.columns"
   ]
  },
  {
   "cell_type": "code",
   "execution_count": 315,
   "metadata": {},
   "outputs": [
    {
     "data": {
      "text/plain": [
       "(105000, 4)"
      ]
     },
     "execution_count": 315,
     "metadata": {},
     "output_type": "execute_result"
    }
   ],
   "source": [
    "X.shape"
   ]
  },
  {
   "cell_type": "code",
   "execution_count": 127,
   "metadata": {},
   "outputs": [],
   "source": [
    "results = {}\n",
    "scores = []\n",
    "\n",
    "for subset in powerset(X.columns):\n",
    "    clf = Pipeline(steps=[('preprocessor', preprocessor),\n",
    "                      ('classifier', GradientBoostingClassifier())])\n",
    "    scores.append(cross_validate(clf, \n",
    "                                 X[subset], y, \n",
    "                   scoring=['roc_auc', \n",
    "                            'recall',\n",
    "                            'f1_weighted'], cv=StratifiedKFold(n_splits=10)))\n",
    "    X_train, X_test, y_train, y_test = train_test_split(X[subset], y, test_size=0.33, stratify=y)\n",
    "    clf.fit(X_train, y_train)\n",
    "    results['+'.join(subset)] = [y_test.to_numpy(), clf.predict(X_test), recall_score(y_test, clf.predict(X_test))]"
   ]
  },
  {
   "cell_type": "code",
   "execution_count": 128,
   "metadata": {
    "scrolled": false
   },
   "outputs": [
    {
     "name": "stdout",
     "output_type": "stream",
     "text": [
      "\\begin{tabular}{lll}\n",
      "\\toprule\n",
      "                   Dataset &        roc-auc &         recall \\\\\n",
      "\\midrule\n",
      "      NPM+Family+Subfamily &   0.924 (0.03) &   0.61 (0.233) \\\\\n",
      "             NPM+Subfamily &  0.922 (0.031) &  0.596 (0.225) \\\\\n",
      "                NPM+Family &  0.915 (0.026) &  0.569 (0.213) \\\\\n",
      "                       NPM &  0.905 (0.029) &  0.526 (0.209) \\\\\n",
      " NPM+Family+Subfamily+Prob &   0.57 (0.187) &  0.223 (0.265) \\\\\n",
      "        NPM+Subfamily+Prob &  0.579 (0.179) &  0.222 (0.268) \\\\\n",
      "           NPM+Family+Prob &  0.527 (0.206) &  0.216 (0.271) \\\\\n",
      "                  NPM+Prob &  0.469 (0.234) &  0.162 (0.282) \\\\\n",
      "     Family+Subfamily+Prob &   0.136 (0.26) &  0.105 (0.299) \\\\\n",
      "               Family+Prob &  0.134 (0.259) &  0.104 (0.299) \\\\\n",
      "            Subfamily+Prob &   0.14 (0.267) &  0.102 (0.299) \\\\\n",
      "                      Prob &  0.118 (0.232) &      0.1 (0.3) \\\\\n",
      "                    Family &  0.604 (0.018) &      0.0 (0.0) \\\\\n",
      "                 Subfamily &   0.62 (0.015) &      0.0 (0.0) \\\\\n",
      "          Family+Subfamily &  0.622 (0.015) &      0.0 (0.0) \\\\\n",
      "\\bottomrule\n",
      "\\end{tabular}\n",
      "\n"
     ]
    }
   ],
   "source": [
    "print(pd.DataFrame({'Dataset': ['+'.join(_) for _ in powerset(X.columns)], \n",
    "              'roc-auc': ['{} ({})'.format(round(np.mean(_.get('test_roc_auc')), 3), \n",
    "                                           round(np.std(_.get('test_roc_auc')), 3)) for _ in scores],\n",
    "              'recall': ['{} ({})'.format(round(np.mean(_.get('test_recall')), 3), \n",
    "                                           round(np.std(_.get('test_recall')), 3)) for _ in scores]})\\\n",
    ".sort_values(by='recall', ascending=False).reset_index().drop(['index'], axis=1).to_latex(index=False))"
   ]
  },
  {
   "cell_type": "code",
   "execution_count": 129,
   "metadata": {},
   "outputs": [],
   "source": [
    "names = ['+'.join(_) for _ in powerset(X.columns)]\n",
    "\n",
    "mc_newmar_m = pd.DataFrame(np.zeros((len(names), len(names))), columns=names,\n",
    "                               index=names)"
   ]
  },
  {
   "cell_type": "code",
   "execution_count": 131,
   "metadata": {},
   "outputs": [],
   "source": [
    "for pair in combinations(powerset(X.columns), r=2):\n",
    "    t_result = mc_nemar_test(results.get('+'.join(pair[0]))[0], \n",
    "                             results.get('+'.join(pair[0]))[1],\n",
    "                             results.get('+'.join(pair[1]))[1])\n",
    "    mc_newmar_m.at[['+'.join(pair[1])], ['+'.join(pair[0])]] = t_result.pvalue\n",
    "#     print('Pair: {}, score model 1: {}, score model 2: {}, mc newmar p: {}'.format(pair, \n",
    "#                                                                                    results.get('+'.join(pair[0]))[2],\n",
    "#                                                                                    results.get('+'.join(pair[1]))[2], \n",
    "#                                                                                    t_result))"
   ]
  },
  {
   "cell_type": "code",
   "execution_count": 138,
   "metadata": {},
   "outputs": [
    {
     "data": {
      "text/plain": [
       "0.0004761904761904762"
      ]
     },
     "execution_count": 138,
     "metadata": {},
     "output_type": "execute_result"
    }
   ],
   "source": [
    "0.05/len(list(combinations(powerset(X.columns), r=2)))"
   ]
  },
  {
   "cell_type": "code",
   "execution_count": 139,
   "metadata": {},
   "outputs": [
    {
     "data": {
      "text/plain": [
       "15"
      ]
     },
     "execution_count": 139,
     "metadata": {},
     "output_type": "execute_result"
    }
   ],
   "source": [
    "len(powerset(X.columns))"
   ]
  },
  {
   "cell_type": "code",
   "execution_count": 140,
   "metadata": {},
   "outputs": [],
   "source": [
    "m = mc_newmar_m.mask(mc_newmar_m.values <= 0.05/105).fillna(0)\n",
    "m = m.mask(m.values > 0.05/105).fillna(1)"
   ]
  },
  {
   "cell_type": "code",
   "execution_count": 141,
   "metadata": {},
   "outputs": [
    {
     "data": {
      "text/html": [
       "<div>\n",
       "<style scoped>\n",
       "    .dataframe tbody tr th:only-of-type {\n",
       "        vertical-align: middle;\n",
       "    }\n",
       "\n",
       "    .dataframe tbody tr th {\n",
       "        vertical-align: top;\n",
       "    }\n",
       "\n",
       "    .dataframe thead th {\n",
       "        text-align: right;\n",
       "    }\n",
       "</style>\n",
       "<table border=\"1\" class=\"dataframe\">\n",
       "  <thead>\n",
       "    <tr style=\"text-align: right;\">\n",
       "      <th></th>\n",
       "      <th>NPM</th>\n",
       "      <th>Family</th>\n",
       "      <th>Subfamily</th>\n",
       "      <th>Prob</th>\n",
       "      <th>NPM+Family</th>\n",
       "      <th>NPM+Subfamily</th>\n",
       "      <th>NPM+Prob</th>\n",
       "      <th>Family+Subfamily</th>\n",
       "      <th>Family+Prob</th>\n",
       "      <th>Subfamily+Prob</th>\n",
       "      <th>NPM+Family+Subfamily</th>\n",
       "      <th>NPM+Family+Prob</th>\n",
       "      <th>NPM+Subfamily+Prob</th>\n",
       "      <th>Family+Subfamily+Prob</th>\n",
       "      <th>NPM+Family+Subfamily+Prob</th>\n",
       "    </tr>\n",
       "  </thead>\n",
       "  <tbody>\n",
       "    <tr>\n",
       "      <th>NPM</th>\n",
       "      <td>0.0</td>\n",
       "      <td>0.0</td>\n",
       "      <td>0.0</td>\n",
       "      <td>0.0</td>\n",
       "      <td>0.0</td>\n",
       "      <td>0.0</td>\n",
       "      <td>0.0</td>\n",
       "      <td>0.0</td>\n",
       "      <td>0.0</td>\n",
       "      <td>0.0</td>\n",
       "      <td>0.0</td>\n",
       "      <td>0.0</td>\n",
       "      <td>0.0</td>\n",
       "      <td>0.0</td>\n",
       "      <td>0.0</td>\n",
       "    </tr>\n",
       "    <tr>\n",
       "      <th>Family</th>\n",
       "      <td>0.0</td>\n",
       "      <td>0.0</td>\n",
       "      <td>0.0</td>\n",
       "      <td>0.0</td>\n",
       "      <td>0.0</td>\n",
       "      <td>0.0</td>\n",
       "      <td>0.0</td>\n",
       "      <td>0.0</td>\n",
       "      <td>0.0</td>\n",
       "      <td>0.0</td>\n",
       "      <td>0.0</td>\n",
       "      <td>0.0</td>\n",
       "      <td>0.0</td>\n",
       "      <td>0.0</td>\n",
       "      <td>0.0</td>\n",
       "    </tr>\n",
       "    <tr>\n",
       "      <th>Subfamily</th>\n",
       "      <td>0.0</td>\n",
       "      <td>1.0</td>\n",
       "      <td>0.0</td>\n",
       "      <td>0.0</td>\n",
       "      <td>0.0</td>\n",
       "      <td>0.0</td>\n",
       "      <td>0.0</td>\n",
       "      <td>0.0</td>\n",
       "      <td>0.0</td>\n",
       "      <td>0.0</td>\n",
       "      <td>0.0</td>\n",
       "      <td>0.0</td>\n",
       "      <td>0.0</td>\n",
       "      <td>0.0</td>\n",
       "      <td>0.0</td>\n",
       "    </tr>\n",
       "    <tr>\n",
       "      <th>Prob</th>\n",
       "      <td>0.0</td>\n",
       "      <td>0.0</td>\n",
       "      <td>0.0</td>\n",
       "      <td>0.0</td>\n",
       "      <td>0.0</td>\n",
       "      <td>0.0</td>\n",
       "      <td>0.0</td>\n",
       "      <td>0.0</td>\n",
       "      <td>0.0</td>\n",
       "      <td>0.0</td>\n",
       "      <td>0.0</td>\n",
       "      <td>0.0</td>\n",
       "      <td>0.0</td>\n",
       "      <td>0.0</td>\n",
       "      <td>0.0</td>\n",
       "    </tr>\n",
       "    <tr>\n",
       "      <th>NPM+Family</th>\n",
       "      <td>0.0</td>\n",
       "      <td>0.0</td>\n",
       "      <td>0.0</td>\n",
       "      <td>0.0</td>\n",
       "      <td>0.0</td>\n",
       "      <td>0.0</td>\n",
       "      <td>0.0</td>\n",
       "      <td>0.0</td>\n",
       "      <td>0.0</td>\n",
       "      <td>0.0</td>\n",
       "      <td>0.0</td>\n",
       "      <td>0.0</td>\n",
       "      <td>0.0</td>\n",
       "      <td>0.0</td>\n",
       "      <td>0.0</td>\n",
       "    </tr>\n",
       "    <tr>\n",
       "      <th>NPM+Subfamily</th>\n",
       "      <td>0.0</td>\n",
       "      <td>0.0</td>\n",
       "      <td>0.0</td>\n",
       "      <td>0.0</td>\n",
       "      <td>0.0</td>\n",
       "      <td>0.0</td>\n",
       "      <td>0.0</td>\n",
       "      <td>0.0</td>\n",
       "      <td>0.0</td>\n",
       "      <td>0.0</td>\n",
       "      <td>0.0</td>\n",
       "      <td>0.0</td>\n",
       "      <td>0.0</td>\n",
       "      <td>0.0</td>\n",
       "      <td>0.0</td>\n",
       "    </tr>\n",
       "    <tr>\n",
       "      <th>NPM+Prob</th>\n",
       "      <td>0.0</td>\n",
       "      <td>0.0</td>\n",
       "      <td>0.0</td>\n",
       "      <td>0.0</td>\n",
       "      <td>0.0</td>\n",
       "      <td>0.0</td>\n",
       "      <td>0.0</td>\n",
       "      <td>0.0</td>\n",
       "      <td>0.0</td>\n",
       "      <td>0.0</td>\n",
       "      <td>0.0</td>\n",
       "      <td>0.0</td>\n",
       "      <td>0.0</td>\n",
       "      <td>0.0</td>\n",
       "      <td>0.0</td>\n",
       "    </tr>\n",
       "    <tr>\n",
       "      <th>Family+Subfamily</th>\n",
       "      <td>0.0</td>\n",
       "      <td>1.0</td>\n",
       "      <td>1.0</td>\n",
       "      <td>1.0</td>\n",
       "      <td>0.0</td>\n",
       "      <td>0.0</td>\n",
       "      <td>0.0</td>\n",
       "      <td>0.0</td>\n",
       "      <td>0.0</td>\n",
       "      <td>0.0</td>\n",
       "      <td>0.0</td>\n",
       "      <td>0.0</td>\n",
       "      <td>0.0</td>\n",
       "      <td>0.0</td>\n",
       "      <td>0.0</td>\n",
       "    </tr>\n",
       "    <tr>\n",
       "      <th>Family+Prob</th>\n",
       "      <td>0.0</td>\n",
       "      <td>0.0</td>\n",
       "      <td>0.0</td>\n",
       "      <td>0.0</td>\n",
       "      <td>0.0</td>\n",
       "      <td>0.0</td>\n",
       "      <td>0.0</td>\n",
       "      <td>0.0</td>\n",
       "      <td>0.0</td>\n",
       "      <td>0.0</td>\n",
       "      <td>0.0</td>\n",
       "      <td>0.0</td>\n",
       "      <td>0.0</td>\n",
       "      <td>0.0</td>\n",
       "      <td>0.0</td>\n",
       "    </tr>\n",
       "    <tr>\n",
       "      <th>Subfamily+Prob</th>\n",
       "      <td>0.0</td>\n",
       "      <td>0.0</td>\n",
       "      <td>0.0</td>\n",
       "      <td>0.0</td>\n",
       "      <td>0.0</td>\n",
       "      <td>0.0</td>\n",
       "      <td>0.0</td>\n",
       "      <td>0.0</td>\n",
       "      <td>0.0</td>\n",
       "      <td>0.0</td>\n",
       "      <td>0.0</td>\n",
       "      <td>0.0</td>\n",
       "      <td>0.0</td>\n",
       "      <td>0.0</td>\n",
       "      <td>0.0</td>\n",
       "    </tr>\n",
       "    <tr>\n",
       "      <th>NPM+Family+Subfamily</th>\n",
       "      <td>0.0</td>\n",
       "      <td>0.0</td>\n",
       "      <td>0.0</td>\n",
       "      <td>0.0</td>\n",
       "      <td>0.0</td>\n",
       "      <td>0.0</td>\n",
       "      <td>0.0</td>\n",
       "      <td>0.0</td>\n",
       "      <td>0.0</td>\n",
       "      <td>0.0</td>\n",
       "      <td>0.0</td>\n",
       "      <td>0.0</td>\n",
       "      <td>0.0</td>\n",
       "      <td>0.0</td>\n",
       "      <td>0.0</td>\n",
       "    </tr>\n",
       "    <tr>\n",
       "      <th>NPM+Family+Prob</th>\n",
       "      <td>0.0</td>\n",
       "      <td>0.0</td>\n",
       "      <td>0.0</td>\n",
       "      <td>0.0</td>\n",
       "      <td>0.0</td>\n",
       "      <td>0.0</td>\n",
       "      <td>0.0</td>\n",
       "      <td>0.0</td>\n",
       "      <td>0.0</td>\n",
       "      <td>0.0</td>\n",
       "      <td>0.0</td>\n",
       "      <td>0.0</td>\n",
       "      <td>0.0</td>\n",
       "      <td>0.0</td>\n",
       "      <td>0.0</td>\n",
       "    </tr>\n",
       "    <tr>\n",
       "      <th>NPM+Subfamily+Prob</th>\n",
       "      <td>0.0</td>\n",
       "      <td>0.0</td>\n",
       "      <td>0.0</td>\n",
       "      <td>0.0</td>\n",
       "      <td>0.0</td>\n",
       "      <td>0.0</td>\n",
       "      <td>0.0</td>\n",
       "      <td>0.0</td>\n",
       "      <td>0.0</td>\n",
       "      <td>0.0</td>\n",
       "      <td>0.0</td>\n",
       "      <td>0.0</td>\n",
       "      <td>0.0</td>\n",
       "      <td>0.0</td>\n",
       "      <td>0.0</td>\n",
       "    </tr>\n",
       "    <tr>\n",
       "      <th>Family+Subfamily+Prob</th>\n",
       "      <td>0.0</td>\n",
       "      <td>0.0</td>\n",
       "      <td>0.0</td>\n",
       "      <td>0.0</td>\n",
       "      <td>0.0</td>\n",
       "      <td>0.0</td>\n",
       "      <td>0.0</td>\n",
       "      <td>0.0</td>\n",
       "      <td>0.0</td>\n",
       "      <td>0.0</td>\n",
       "      <td>0.0</td>\n",
       "      <td>0.0</td>\n",
       "      <td>0.0</td>\n",
       "      <td>0.0</td>\n",
       "      <td>0.0</td>\n",
       "    </tr>\n",
       "    <tr>\n",
       "      <th>NPM+Family+Subfamily+Prob</th>\n",
       "      <td>0.0</td>\n",
       "      <td>0.0</td>\n",
       "      <td>0.0</td>\n",
       "      <td>0.0</td>\n",
       "      <td>0.0</td>\n",
       "      <td>0.0</td>\n",
       "      <td>0.0</td>\n",
       "      <td>0.0</td>\n",
       "      <td>0.0</td>\n",
       "      <td>0.0</td>\n",
       "      <td>0.0</td>\n",
       "      <td>0.0</td>\n",
       "      <td>0.0</td>\n",
       "      <td>0.0</td>\n",
       "      <td>0.0</td>\n",
       "    </tr>\n",
       "  </tbody>\n",
       "</table>\n",
       "</div>"
      ],
      "text/plain": [
       "                           NPM  Family  Subfamily  Prob  NPM+Family  \\\n",
       "NPM                        0.0     0.0        0.0   0.0         0.0   \n",
       "Family                     0.0     0.0        0.0   0.0         0.0   \n",
       "Subfamily                  0.0     1.0        0.0   0.0         0.0   \n",
       "Prob                       0.0     0.0        0.0   0.0         0.0   \n",
       "NPM+Family                 0.0     0.0        0.0   0.0         0.0   \n",
       "NPM+Subfamily              0.0     0.0        0.0   0.0         0.0   \n",
       "NPM+Prob                   0.0     0.0        0.0   0.0         0.0   \n",
       "Family+Subfamily           0.0     1.0        1.0   1.0         0.0   \n",
       "Family+Prob                0.0     0.0        0.0   0.0         0.0   \n",
       "Subfamily+Prob             0.0     0.0        0.0   0.0         0.0   \n",
       "NPM+Family+Subfamily       0.0     0.0        0.0   0.0         0.0   \n",
       "NPM+Family+Prob            0.0     0.0        0.0   0.0         0.0   \n",
       "NPM+Subfamily+Prob         0.0     0.0        0.0   0.0         0.0   \n",
       "Family+Subfamily+Prob      0.0     0.0        0.0   0.0         0.0   \n",
       "NPM+Family+Subfamily+Prob  0.0     0.0        0.0   0.0         0.0   \n",
       "\n",
       "                           NPM+Subfamily  NPM+Prob  Family+Subfamily  \\\n",
       "NPM                                  0.0       0.0               0.0   \n",
       "Family                               0.0       0.0               0.0   \n",
       "Subfamily                            0.0       0.0               0.0   \n",
       "Prob                                 0.0       0.0               0.0   \n",
       "NPM+Family                           0.0       0.0               0.0   \n",
       "NPM+Subfamily                        0.0       0.0               0.0   \n",
       "NPM+Prob                             0.0       0.0               0.0   \n",
       "Family+Subfamily                     0.0       0.0               0.0   \n",
       "Family+Prob                          0.0       0.0               0.0   \n",
       "Subfamily+Prob                       0.0       0.0               0.0   \n",
       "NPM+Family+Subfamily                 0.0       0.0               0.0   \n",
       "NPM+Family+Prob                      0.0       0.0               0.0   \n",
       "NPM+Subfamily+Prob                   0.0       0.0               0.0   \n",
       "Family+Subfamily+Prob                0.0       0.0               0.0   \n",
       "NPM+Family+Subfamily+Prob            0.0       0.0               0.0   \n",
       "\n",
       "                           Family+Prob  Subfamily+Prob  NPM+Family+Subfamily  \\\n",
       "NPM                                0.0             0.0                   0.0   \n",
       "Family                             0.0             0.0                   0.0   \n",
       "Subfamily                          0.0             0.0                   0.0   \n",
       "Prob                               0.0             0.0                   0.0   \n",
       "NPM+Family                         0.0             0.0                   0.0   \n",
       "NPM+Subfamily                      0.0             0.0                   0.0   \n",
       "NPM+Prob                           0.0             0.0                   0.0   \n",
       "Family+Subfamily                   0.0             0.0                   0.0   \n",
       "Family+Prob                        0.0             0.0                   0.0   \n",
       "Subfamily+Prob                     0.0             0.0                   0.0   \n",
       "NPM+Family+Subfamily               0.0             0.0                   0.0   \n",
       "NPM+Family+Prob                    0.0             0.0                   0.0   \n",
       "NPM+Subfamily+Prob                 0.0             0.0                   0.0   \n",
       "Family+Subfamily+Prob              0.0             0.0                   0.0   \n",
       "NPM+Family+Subfamily+Prob          0.0             0.0                   0.0   \n",
       "\n",
       "                           NPM+Family+Prob  NPM+Subfamily+Prob  \\\n",
       "NPM                                    0.0                 0.0   \n",
       "Family                                 0.0                 0.0   \n",
       "Subfamily                              0.0                 0.0   \n",
       "Prob                                   0.0                 0.0   \n",
       "NPM+Family                             0.0                 0.0   \n",
       "NPM+Subfamily                          0.0                 0.0   \n",
       "NPM+Prob                               0.0                 0.0   \n",
       "Family+Subfamily                       0.0                 0.0   \n",
       "Family+Prob                            0.0                 0.0   \n",
       "Subfamily+Prob                         0.0                 0.0   \n",
       "NPM+Family+Subfamily                   0.0                 0.0   \n",
       "NPM+Family+Prob                        0.0                 0.0   \n",
       "NPM+Subfamily+Prob                     0.0                 0.0   \n",
       "Family+Subfamily+Prob                  0.0                 0.0   \n",
       "NPM+Family+Subfamily+Prob              0.0                 0.0   \n",
       "\n",
       "                           Family+Subfamily+Prob  NPM+Family+Subfamily+Prob  \n",
       "NPM                                          0.0                        0.0  \n",
       "Family                                       0.0                        0.0  \n",
       "Subfamily                                    0.0                        0.0  \n",
       "Prob                                         0.0                        0.0  \n",
       "NPM+Family                                   0.0                        0.0  \n",
       "NPM+Subfamily                                0.0                        0.0  \n",
       "NPM+Prob                                     0.0                        0.0  \n",
       "Family+Subfamily                             0.0                        0.0  \n",
       "Family+Prob                                  0.0                        0.0  \n",
       "Subfamily+Prob                               0.0                        0.0  \n",
       "NPM+Family+Subfamily                         0.0                        0.0  \n",
       "NPM+Family+Prob                              0.0                        0.0  \n",
       "NPM+Subfamily+Prob                           0.0                        0.0  \n",
       "Family+Subfamily+Prob                        0.0                        0.0  \n",
       "NPM+Family+Subfamily+Prob                    0.0                        0.0  "
      ]
     },
     "execution_count": 141,
     "metadata": {},
     "output_type": "execute_result"
    }
   ],
   "source": [
    "m"
   ]
  },
  {
   "cell_type": "code",
   "execution_count": 142,
   "metadata": {},
   "outputs": [
    {
     "data": {
      "text/plain": [
       "0.0004761904761904762"
      ]
     },
     "execution_count": 142,
     "metadata": {},
     "output_type": "execute_result"
    }
   ],
   "source": [
    "0.05/105"
   ]
  },
  {
   "cell_type": "code",
   "execution_count": 143,
   "metadata": {},
   "outputs": [
    {
     "data": {
      "text/plain": [
       "<Figure size 576x576 with 0 Axes>"
      ]
     },
     "metadata": {},
     "output_type": "display_data"
    },
    {
     "data": {
      "image/png": "[encoded data removed]",
      "text/plain": [
       "<Figure size 504x360 with 1 Axes>"
      ]
     },
     "metadata": {},
     "output_type": "display_data"
    }
   ],
   "source": [
    "plt.figure(figsize=(8, 8))\n",
    "mask = np.zeros_like(m)\n",
    "mask[np.triu_indices_from(m)] = True\n",
    "\n",
    "with sns.axes_style(\"white\"):\n",
    "    f, ax = plt.subplots(figsize=(7, 5))\n",
    "    ax = sns.heatmap(m, mask=mask, vmax=.3, square=True, cbar=False, cmap=['#3D2B3D', '#81AE9D'])\n",
    "\n",
    "custom_lines = [Line2D([0], [0], color='#3D2B3D', lw=0, marker='s', markersize=10),\n",
    "                Line2D([0], [0], color=\"#81AE9D\", lw=0, marker='s', markersize=10)]\n",
    "plt.legend(custom_lines, ['P-value > 0.0005', 'P-value < 0.0005'])\n",
    "plt.xticks(fontsize=8)\n",
    "plt.yticks(fontsize=8)\n",
    "plt.tight_layout()\n",
    "    \n",
    "plt.savefig('P_values_NPM.pdf', dpi=300, bbox_inches = \"tight\")"
   ]
  },
  {
   "cell_type": "markdown",
   "metadata": {},
   "source": [
    "#### 3.3. Performance under different number of concepts"
   ]
  },
  {
   "cell_type": "code",
   "execution_count": 59,
   "metadata": {},
   "outputs": [
    {
     "name": "stdout",
     "output_type": "stream",
     "text": [
      "% Dataset with 100 colexifications for each lg\n",
      "\\begin{tabular}{llll}\n",
      "\\toprule\n",
      "                   Dataset &      Precision &         Recall &             F1 \\\\\n",
      "\\midrule\n",
      "      NPM+Family+Subfamily &  0.742 (0.017) &  0.672 (0.028) &  0.705 (0.015) \\\\\n",
      " NPM+Family+Subfamily+Prob &  0.755 (0.019) &  0.669 (0.019) &  0.709 (0.011) \\\\\n",
      "             NPM+Subfamily &  0.742 (0.021) &   0.665 (0.03) &    0.7 (0.014) \\\\\n",
      "        NPM+Subfamily+Prob &  0.758 (0.018) &   0.66 (0.025) &  0.705 (0.014) \\\\\n",
      "           NPM+Family+Prob &  0.742 (0.017) &   0.627 (0.02) &  0.679 (0.011) \\\\\n",
      "                NPM+Family &  0.741 (0.027) &  0.612 (0.022) &   0.67 (0.013) \\\\\n",
      "                       NPM &  0.715 (0.014) &  0.603 (0.016) &   0.654 (0.01) \\\\\n",
      "                  NPM+Prob &   0.733 (0.02) &  0.593 (0.023) &  0.656 (0.016) \\\\\n",
      "     Family+Subfamily+Prob &  0.604 (0.034) &  0.193 (0.016) &  0.292 (0.018) \\\\\n",
      "               Family+Prob &  0.593 (0.032) &  0.191 (0.021) &  0.288 (0.023) \\\\\n",
      "            Subfamily+Prob &  0.599 (0.037) &  0.177 (0.016) &   0.273 (0.02) \\\\\n",
      "                      Prob &  0.545 (0.032) &  0.122 (0.023) &  0.199 (0.031) \\\\\n",
      "          Family+Subfamily &  0.509 (0.121) &  0.057 (0.024) &     0.1 (0.04) \\\\\n",
      "                 Subfamily &  0.482 (0.157) &  0.041 (0.023) &  0.075 (0.039) \\\\\n",
      "                    Family &      0.0 (0.0) &      0.0 (0.0) &      0.0 (0.0) \\\\\n",
      "\\bottomrule\n",
      "\\end{tabular}\n",
      "\n",
      "% Dataset with 200 colexifications for each lg\n",
      "\\begin{tabular}{llll}\n",
      "\\toprule\n",
      "                   Dataset &      Precision &         Recall &             F1 \\\\\n",
      "\\midrule\n",
      "      NPM+Family+Subfamily &  0.725 (0.018) &   0.616 (0.02) &  0.666 (0.013) \\\\\n",
      "             NPM+Subfamily &  0.725 (0.016) &  0.609 (0.018) &  0.662 (0.012) \\\\\n",
      "                NPM+Family &   0.712 (0.02) &   0.59 (0.015) &  0.645 (0.013) \\\\\n",
      " NPM+Family+Subfamily+Prob &  0.762 (0.014) &  0.586 (0.019) &  0.663 (0.012) \\\\\n",
      "        NPM+Subfamily+Prob &   0.76 (0.019) &  0.577 (0.023) &  0.655 (0.017) \\\\\n",
      "           NPM+Family+Prob &  0.755 (0.015) &  0.565 (0.015) &   0.646 (0.01) \\\\\n",
      "                  NPM+Prob &  0.725 (0.018) &  0.528 (0.019) &  0.611 (0.015) \\\\\n",
      "                       NPM &  0.717 (0.016) &  0.488 (0.017) &  0.581 (0.013) \\\\\n",
      "               Family+Prob &  0.596 (0.035) &  0.133 (0.018) &  0.216 (0.024) \\\\\n",
      "     Family+Subfamily+Prob &   0.609 (0.03) &  0.132 (0.012) &  0.216 (0.017) \\\\\n",
      "            Subfamily+Prob &  0.599 (0.032) &  0.124 (0.013) &  0.205 (0.018) \\\\\n",
      "                      Prob &  0.544 (0.041) &  0.088 (0.016) &  0.151 (0.023) \\\\\n",
      "                    Family &      0.0 (0.0) &      0.0 (0.0) &      0.0 (0.0) \\\\\n",
      "                 Subfamily &      0.0 (0.0) &      0.0 (0.0) &      0.0 (0.0) \\\\\n",
      "          Family+Subfamily &      0.0 (0.0) &      0.0 (0.0) &      0.0 (0.0) \\\\\n",
      "\\bottomrule\n",
      "\\end{tabular}\n",
      "\n",
      "% Dataset with 300 colexifications for each lg\n",
      "\\begin{tabular}{llll}\n",
      "\\toprule\n",
      "                   Dataset &      Precision &         Recall &             F1 \\\\\n",
      "\\midrule\n",
      "      NPM+Family+Subfamily &  0.728 (0.016) &  0.578 (0.017) &  0.645 (0.013) \\\\\n",
      "             NPM+Subfamily &  0.721 (0.017) &  0.565 (0.018) &  0.633 (0.014) \\\\\n",
      " NPM+Family+Subfamily+Prob &  0.763 (0.015) &  0.564 (0.018) &  0.649 (0.013) \\\\\n",
      "        NPM+Subfamily+Prob &  0.755 (0.017) &  0.553 (0.019) &  0.638 (0.015) \\\\\n",
      "                NPM+Family &  0.712 (0.015) &  0.545 (0.017) &  0.618 (0.012) \\\\\n",
      "           NPM+Family+Prob &  0.745 (0.012) &  0.543 (0.013) &   0.628 (0.01) \\\\\n",
      "                  NPM+Prob &  0.712 (0.016) &  0.494 (0.015) &  0.583 (0.012) \\\\\n",
      "                       NPM &  0.696 (0.015) &  0.451 (0.014) &  0.547 (0.013) \\\\\n",
      "               Family+Prob &  0.594 (0.025) &  0.116 (0.012) &  0.193 (0.016) \\\\\n",
      "     Family+Subfamily+Prob &  0.606 (0.037) &  0.113 (0.012) &   0.19 (0.017) \\\\\n",
      "            Subfamily+Prob &  0.602 (0.033) &   0.105 (0.01) &  0.179 (0.015) \\\\\n",
      "                      Prob &  0.545 (0.039) &  0.069 (0.013) &  0.123 (0.021) \\\\\n",
      "                    Family &      0.0 (0.0) &      0.0 (0.0) &      0.0 (0.0) \\\\\n",
      "                 Subfamily &      0.0 (0.0) &      0.0 (0.0) &      0.0 (0.0) \\\\\n",
      "          Family+Subfamily &      0.0 (0.0) &      0.0 (0.0) &      0.0 (0.0) \\\\\n",
      "\\bottomrule\n",
      "\\end{tabular}\n",
      "\n",
      "% Dataset with 400 colexifications for each lg\n",
      "\\begin{tabular}{llll}\n",
      "\\toprule\n",
      "                   Dataset &      Precision &         Recall &             F1 \\\\\n",
      "\\midrule\n",
      " NPM+Family+Subfamily+Prob &  0.761 (0.013) &  0.542 (0.015) &  0.633 (0.011) \\\\\n",
      "        NPM+Subfamily+Prob &  0.751 (0.015) &  0.532 (0.016) &  0.623 (0.012) \\\\\n",
      "      NPM+Family+Subfamily &  0.728 (0.012) &  0.527 (0.016) &  0.611 (0.012) \\\\\n",
      "           NPM+Family+Prob &  0.738 (0.014) &  0.527 (0.013) &  0.614 (0.011) \\\\\n",
      "             NPM+Subfamily &  0.712 (0.015) &  0.519 (0.015) &    0.6 (0.012) \\\\\n",
      "                NPM+Family &   0.71 (0.016) &  0.515 (0.014) &  0.597 (0.011) \\\\\n",
      "                  NPM+Prob &  0.692 (0.017) &  0.483 (0.018) &  0.568 (0.013) \\\\\n",
      "                       NPM &  0.669 (0.019) &  0.432 (0.015) &  0.525 (0.014) \\\\\n",
      "               Family+Prob &  0.595 (0.029) &  0.101 (0.014) &  0.172 (0.021) \\\\\n",
      "     Family+Subfamily+Prob &  0.606 (0.029) &  0.101 (0.009) &  0.173 (0.014) \\\\\n",
      "            Subfamily+Prob &  0.603 (0.041) &  0.095 (0.008) &  0.164 (0.013) \\\\\n",
      "                      Prob &   0.54 (0.036) &  0.063 (0.012) &   0.113 (0.02) \\\\\n",
      "                    Family &      0.0 (0.0) &      0.0 (0.0) &      0.0 (0.0) \\\\\n",
      "                 Subfamily &      0.0 (0.0) &      0.0 (0.0) &      0.0 (0.0) \\\\\n",
      "          Family+Subfamily &      0.0 (0.0) &      0.0 (0.0) &      0.0 (0.0) \\\\\n",
      "\\bottomrule\n",
      "\\end{tabular}\n",
      "\n",
      "% Dataset with 500 colexifications for each lg\n",
      "\\begin{tabular}{llll}\n",
      "\\toprule\n",
      "                   Dataset &      Precision &         Recall &             F1 \\\\\n",
      "\\midrule\n",
      " NPM+Family+Subfamily+Prob &  0.753 (0.013) &  0.526 (0.011) &   0.62 (0.009) \\\\\n",
      "        NPM+Subfamily+Prob &  0.742 (0.019) &  0.515 (0.014) &  0.608 (0.012) \\\\\n",
      "           NPM+Family+Prob &  0.736 (0.017) &  0.512 (0.014) &  0.604 (0.009) \\\\\n",
      "      NPM+Family+Subfamily &  0.722 (0.015) &  0.511 (0.013) &  0.598 (0.009) \\\\\n",
      "             NPM+Subfamily &  0.706 (0.015) &  0.502 (0.016) &  0.587 (0.011) \\\\\n",
      "                NPM+Family &  0.704 (0.017) &  0.491 (0.014) &  0.578 (0.012) \\\\\n",
      "                  NPM+Prob &  0.695 (0.022) &  0.455 (0.021) &   0.55 (0.014) \\\\\n",
      "                       NPM &  0.652 (0.017) &  0.388 (0.026) &  0.486 (0.019) \\\\\n",
      "     Family+Subfamily+Prob &  0.605 (0.031) &  0.096 (0.009) &  0.165 (0.013) \\\\\n",
      "               Family+Prob &  0.596 (0.028) &  0.093 (0.011) &  0.161 (0.017) \\\\\n",
      "            Subfamily+Prob &   0.605 (0.04) &  0.089 (0.008) &  0.155 (0.012) \\\\\n",
      "                      Prob &  0.541 (0.038) &   0.062 (0.01) &   0.11 (0.016) \\\\\n",
      "                    Family &      0.0 (0.0) &      0.0 (0.0) &      0.0 (0.0) \\\\\n",
      "                 Subfamily &      0.0 (0.0) &      0.0 (0.0) &      0.0 (0.0) \\\\\n",
      "          Family+Subfamily &      0.0 (0.0) &      0.0 (0.0) &      0.0 (0.0) \\\\\n",
      "\\bottomrule\n",
      "\\end{tabular}\n",
      "\n",
      "% Dataset with 600 colexifications for each lg\n",
      "\\begin{tabular}{llll}\n",
      "\\toprule\n",
      "                   Dataset &      Precision &         Recall &             F1 \\\\\n",
      "\\midrule\n",
      " NPM+Family+Subfamily+Prob &  0.753 (0.015) &  0.515 (0.015) &  0.612 (0.012) \\\\\n",
      "        NPM+Subfamily+Prob &   0.74 (0.019) &  0.505 (0.017) &    0.6 (0.013) \\\\\n",
      "      NPM+Family+Subfamily &  0.723 (0.015) &  0.502 (0.011) &  0.593 (0.009) \\\\\n",
      "           NPM+Family+Prob &  0.747 (0.013) &    0.5 (0.016) &  0.598 (0.012) \\\\\n",
      "             NPM+Subfamily &  0.701 (0.013) &  0.493 (0.014) &  0.579 (0.011) \\\\\n",
      "                NPM+Family &  0.695 (0.016) &  0.477 (0.016) &  0.566 (0.012) \\\\\n",
      "                  NPM+Prob &  0.701 (0.018) &  0.436 (0.015) &  0.538 (0.013) \\\\\n",
      "                       NPM &  0.636 (0.016) &  0.367 (0.018) &  0.465 (0.015) \\\\\n",
      "               Family+Prob &  0.593 (0.037) &  0.092 (0.011) &  0.158 (0.016) \\\\\n",
      "     Family+Subfamily+Prob &  0.599 (0.034) &  0.092 (0.008) &   0.16 (0.012) \\\\\n",
      "            Subfamily+Prob &  0.602 (0.042) &  0.086 (0.007) &   0.15 (0.011) \\\\\n",
      "                      Prob &  0.543 (0.028) &   0.056 (0.01) &  0.102 (0.016) \\\\\n",
      "                    Family &      0.0 (0.0) &      0.0 (0.0) &      0.0 (0.0) \\\\\n",
      "                 Subfamily &      0.0 (0.0) &      0.0 (0.0) &      0.0 (0.0) \\\\\n",
      "          Family+Subfamily &      0.0 (0.0) &      0.0 (0.0) &      0.0 (0.0) \\\\\n",
      "\\bottomrule\n",
      "\\end{tabular}\n",
      "\n"
     ]
    },
    {
     "name": "stdout",
     "output_type": "stream",
     "text": [
      "% Dataset with 700 colexifications for each lg\n",
      "\\begin{tabular}{llll}\n",
      "\\toprule\n",
      "                   Dataset &      Precision &         Recall &             F1 \\\\\n",
      "\\midrule\n",
      " NPM+Family+Subfamily+Prob &  0.762 (0.015) &   0.496 (0.02) &  0.601 (0.015) \\\\\n",
      "      NPM+Family+Subfamily &  0.722 (0.013) &  0.492 (0.014) &  0.585 (0.012) \\\\\n",
      "           NPM+Family+Prob &  0.755 (0.014) &  0.487 (0.016) &  0.592 (0.012) \\\\\n",
      "             NPM+Subfamily &  0.709 (0.014) &  0.487 (0.011) &   0.577 (0.01) \\\\\n",
      "        NPM+Subfamily+Prob &  0.756 (0.017) &  0.471 (0.017) &   0.58 (0.013) \\\\\n",
      "                  NPM+Prob &  0.707 (0.016) &  0.438 (0.011) &  0.541 (0.009) \\\\\n",
      "                NPM+Family &  0.716 (0.015) &  0.428 (0.013) &  0.536 (0.011) \\\\\n",
      "                       NPM &  0.613 (0.014) &  0.359 (0.011) &   0.453 (0.01) \\\\\n",
      "     Family+Subfamily+Prob &   0.602 (0.04) &  0.089 (0.009) &  0.155 (0.014) \\\\\n",
      "               Family+Prob &  0.596 (0.036) &   0.087 (0.01) &  0.152 (0.015) \\\\\n",
      "            Subfamily+Prob &  0.596 (0.036) &   0.082 (0.01) &  0.144 (0.015) \\\\\n",
      "                      Prob &  0.544 (0.041) &  0.055 (0.011) &  0.099 (0.018) \\\\\n",
      "                    Family &      0.0 (0.0) &      0.0 (0.0) &      0.0 (0.0) \\\\\n",
      "                 Subfamily &      0.0 (0.0) &      0.0 (0.0) &      0.0 (0.0) \\\\\n",
      "          Family+Subfamily &      0.0 (0.0) &      0.0 (0.0) &      0.0 (0.0) \\\\\n",
      "\\bottomrule\n",
      "\\end{tabular}\n",
      "\n",
      "% Dataset with 800 colexifications for each lg\n",
      "\\begin{tabular}{llll}\n",
      "\\toprule\n",
      "                   Dataset &      Precision &         Recall &             F1 \\\\\n",
      "\\midrule\n",
      "           NPM+Family+Prob &  0.759 (0.013) &  0.478 (0.018) &  0.587 (0.014) \\\\\n",
      " NPM+Family+Subfamily+Prob &  0.771 (0.015) &  0.477 (0.017) &  0.589 (0.012) \\\\\n",
      "      NPM+Family+Subfamily &  0.731 (0.015) &  0.458 (0.023) &  0.563 (0.018) \\\\\n",
      "        NPM+Subfamily+Prob &  0.772 (0.015) &   0.446 (0.02) &  0.565 (0.016) \\\\\n",
      "                  NPM+Prob &  0.704 (0.019) &  0.439 (0.018) &   0.54 (0.012) \\\\\n",
      "                NPM+Family &  0.714 (0.015) &  0.426 (0.012) &   0.534 (0.01) \\\\\n",
      "             NPM+Subfamily &  0.726 (0.016) &   0.42 (0.026) &   0.531 (0.02) \\\\\n",
      "                       NPM &  0.585 (0.014) &   0.356 (0.01) &   0.443 (0.01) \\\\\n",
      "     Family+Subfamily+Prob &  0.596 (0.034) &  0.088 (0.008) &  0.153 (0.012) \\\\\n",
      "               Family+Prob &  0.594 (0.036) &  0.085 (0.009) &  0.149 (0.013) \\\\\n",
      "            Subfamily+Prob &  0.597 (0.034) &   0.08 (0.006) &   0.141 (0.01) \\\\\n",
      "                      Prob &  0.543 (0.033) &   0.055 (0.01) &    0.1 (0.016) \\\\\n",
      "                    Family &      0.0 (0.0) &      0.0 (0.0) &      0.0 (0.0) \\\\\n",
      "                 Subfamily &      0.0 (0.0) &      0.0 (0.0) &      0.0 (0.0) \\\\\n",
      "          Family+Subfamily &      0.0 (0.0) &      0.0 (0.0) &      0.0 (0.0) \\\\\n",
      "\\bottomrule\n",
      "\\end{tabular}\n",
      "\n",
      "% Dataset with 900 colexifications for each lg\n",
      "\\begin{tabular}{llll}\n",
      "\\toprule\n",
      "                   Dataset &      Precision &         Recall &             F1 \\\\\n",
      "\\midrule\n",
      " NPM+Family+Subfamily+Prob &  0.774 (0.015) &  0.478 (0.016) &  0.591 (0.013) \\\\\n",
      "           NPM+Family+Prob &  0.758 (0.018) &  0.477 (0.018) &  0.586 (0.015) \\\\\n",
      "        NPM+Subfamily+Prob &  0.773 (0.017) &   0.45 (0.019) &  0.569 (0.015) \\\\\n",
      "                  NPM+Prob &  0.706 (0.015) &  0.447 (0.019) &  0.547 (0.014) \\\\\n",
      "      NPM+Family+Subfamily &  0.737 (0.013) &  0.426 (0.013) &   0.54 (0.012) \\\\\n",
      "                NPM+Family &  0.709 (0.012) &  0.417 (0.019) &  0.525 (0.016) \\\\\n",
      "             NPM+Subfamily &  0.736 (0.016) &  0.401 (0.016) &  0.519 (0.013) \\\\\n",
      "                       NPM &  0.616 (0.023) &  0.238 (0.031) &  0.342 (0.025) \\\\\n",
      "     Family+Subfamily+Prob &  0.596 (0.032) &  0.088 (0.008) &  0.153 (0.011) \\\\\n",
      "               Family+Prob &   0.59 (0.031) &  0.087 (0.011) &  0.151 (0.017) \\\\\n",
      "            Subfamily+Prob &  0.598 (0.038) &  0.079 (0.006) &    0.14 (0.01) \\\\\n",
      "                      Prob &  0.542 (0.034) &   0.05 (0.011) &  0.091 (0.018) \\\\\n",
      "                    Family &      0.0 (0.0) &      0.0 (0.0) &      0.0 (0.0) \\\\\n",
      "                 Subfamily &      0.0 (0.0) &      0.0 (0.0) &      0.0 (0.0) \\\\\n",
      "          Family+Subfamily &      0.0 (0.0) &      0.0 (0.0) &      0.0 (0.0) \\\\\n",
      "\\bottomrule\n",
      "\\end{tabular}\n",
      "\n",
      "% Dataset with 1000 colexifications for each lg\n",
      "\\begin{tabular}{llll}\n",
      "\\toprule\n",
      "                   Dataset &      Precision &         Recall &             F1 \\\\\n",
      "\\midrule\n",
      "           NPM+Family+Prob &  0.759 (0.014) &  0.481 (0.017) &  0.589 (0.013) \\\\\n",
      " NPM+Family+Subfamily+Prob &  0.778 (0.014) &  0.476 (0.015) &   0.59 (0.013) \\\\\n",
      "        NPM+Subfamily+Prob &  0.775 (0.013) &  0.453 (0.022) &  0.571 (0.019) \\\\\n",
      "                  NPM+Prob &   0.71 (0.017) &  0.445 (0.016) &  0.547 (0.012) \\\\\n",
      "      NPM+Family+Subfamily &  0.737 (0.016) &  0.429 (0.017) &  0.542 (0.014) \\\\\n",
      "                NPM+Family &  0.711 (0.014) &   0.42 (0.017) &  0.527 (0.014) \\\\\n",
      "             NPM+Subfamily &  0.737 (0.017) &  0.409 (0.019) &  0.526 (0.015) \\\\\n",
      "                       NPM &  0.619 (0.022) &  0.239 (0.029) &  0.344 (0.023) \\\\\n",
      "     Family+Subfamily+Prob &  0.591 (0.037) &  0.086 (0.008) &  0.149 (0.012) \\\\\n",
      "               Family+Prob &  0.593 (0.041) &  0.084 (0.009) &  0.147 (0.014) \\\\\n",
      "            Subfamily+Prob &  0.592 (0.035) &  0.079 (0.007) &  0.139 (0.011) \\\\\n",
      "                      Prob &  0.541 (0.031) &  0.053 (0.007) &  0.096 (0.011) \\\\\n",
      "                    Family &      0.0 (0.0) &      0.0 (0.0) &      0.0 (0.0) \\\\\n",
      "                 Subfamily &      0.0 (0.0) &      0.0 (0.0) &      0.0 (0.0) \\\\\n",
      "          Family+Subfamily &      0.0 (0.0) &      0.0 (0.0) &      0.0 (0.0) \\\\\n",
      "\\bottomrule\n",
      "\\end{tabular}\n",
      "\n"
     ]
    }
   ],
   "source": [
    "sc = []\n",
    "\n",
    "for n in range(1, 11):\n",
    "    n = n*100\n",
    "    dataset = pd.read_csv('NPM_datasets/NPM_distribution_{}.csv'.format(n), index_col=0)\n",
    "    y = dataset['Present']\n",
    "    X = dataset.drop(['Present', 'Feature', 'Language'], axis=1)\n",
    "    results = {}\n",
    "    scores = []\n",
    "    for subset in powerset(X.columns):\n",
    "        clf = Pipeline(steps=[('preprocessor', preprocessor),\n",
    "                          ('classifier', GradientBoostingClassifier())])\n",
    "        scores.append(cross_validate(clf, \n",
    "                                     X[subset], y, \n",
    "                       scoring=['precision', \n",
    "                                'recall', 'f1'], cv=RepeatedKFold(n_splits=5, n_repeats=10), \n",
    "                                     n_jobs=5))\n",
    "#         StratifiedKFold(n_splits=5)\n",
    "    sc.append([n, scores])\n",
    "    print('% Dataset with {} colexifications for each lg'.format(n))\n",
    "    print(pd.DataFrame({'Dataset': ['+'.join(_) for _ in powerset(X.columns)], \n",
    "              'Precision': ['{} ({})'.format(round(np.mean(_.get('test_precision')), 3), \n",
    "                                           round(np.std(_.get('test_precision')), 3)) for _ in scores],\n",
    "              'Recall': ['{} ({})'.format(round(np.mean(_.get('test_recall')), 3), \n",
    "                                           round(np.std(_.get('test_recall')), 3)) for _ in scores], \n",
    "              'F1': ['{} ({})'.format(round(np.mean(_.get('test_f1')), 3), \n",
    "                                           round(np.std(_.get('test_f1')), 3)) for _ in scores]})\\\n",
    "          .sort_values(by='Recall', ascending=False).reset_index().drop(['index'], axis=1).to_latex(index=False))"
   ]
  },
  {
   "cell_type": "code",
   "execution_count": 60,
   "metadata": {},
   "outputs": [
    {
     "name": "stdout",
     "output_type": "stream",
     "text": [
      "100\n",
      "200\n",
      "300\n",
      "400\n",
      "500\n",
      "600\n",
      "700\n",
      "800\n",
      "900\n",
      "1000\n"
     ]
    }
   ],
   "source": [
    "recall = []\n",
    "n_of_colex = []\n",
    "model = []\n",
    "\n",
    "mods = ['+'.join(_) for _ in powerset(X.columns)]\n",
    "\n",
    "for element in sc:\n",
    "    res = []\n",
    "    print(element[0])\n",
    "    for i in range(len(element[1])):\n",
    "        model += [mods[i]]*50\n",
    "        recall += list(element[1][i].get('test_recall'))\n",
    "        n_of_colex += [element[0]]*50"
   ]
  },
  {
   "cell_type": "code",
   "execution_count": 61,
   "metadata": {},
   "outputs": [
    {
     "data": {
      "text/plain": [
       "['NPM',\n",
       " 'Family',\n",
       " 'Subfamily',\n",
       " 'Prob',\n",
       " 'NPM+Family',\n",
       " 'NPM+Subfamily',\n",
       " 'NPM+Prob',\n",
       " 'Family+Subfamily',\n",
       " 'Family+Prob',\n",
       " 'Subfamily+Prob',\n",
       " 'NPM+Family+Subfamily',\n",
       " 'NPM+Family+Prob',\n",
       " 'NPM+Subfamily+Prob',\n",
       " 'Family+Subfamily+Prob',\n",
       " 'NPM+Family+Subfamily+Prob']"
      ]
     },
     "execution_count": 61,
     "metadata": {},
     "output_type": "execute_result"
    }
   ],
   "source": [
    "['+'.join(_) for _ in powerset(X.columns)]"
   ]
  },
  {
   "cell_type": "code",
   "execution_count": 62,
   "metadata": {},
   "outputs": [],
   "source": [
    "pd.DataFrame({'N of colex': n_of_colex, 'Recall': recall, 'Model': model})\\\n",
    ".to_csv('NPM_diff_model_res.csv')"
   ]
  },
  {
   "cell_type": "markdown",
   "metadata": {},
   "source": [
    "#### 3.4. Best model examination"
   ]
  },
  {
   "cell_type": "code",
   "execution_count": 259,
   "metadata": {},
   "outputs": [],
   "source": [
    "results_npm = pd.read_csv('NPM_datasets/NPM_distribution_100.csv', index_col=0)\n",
    "\n",
    "# \n",
    "# X = results_npm.drop(['Present', 'Feature'], axis=1)\n",
    "X = results_npm.drop(['Present', 'Feature', 'Language'], axis=1)\n",
    "y = results_npm['Present']"
   ]
  },
  {
   "cell_type": "code",
   "execution_count": 254,
   "metadata": {},
   "outputs": [],
   "source": [
    "X_train, X_test, y_train, y_test = train_test_split(X, y, test_size=0.33, stratify=y)"
   ]
  },
  {
   "cell_type": "code",
   "execution_count": 255,
   "metadata": {},
   "outputs": [
    {
     "data": {
      "text/plain": [
       "Pipeline(memory=None,\n",
       "         steps=[('preprocessor',\n",
       "                 ColumnTransformer(n_jobs=None, remainder='drop',\n",
       "                                   sparse_threshold=0.3,\n",
       "                                   transformer_weights=None,\n",
       "                                   transformers=[('impute', 'passthrough',\n",
       "                                                  <sklearn.compose._column_transformer.make_column_selector object at 0x7ff8e1c07910>),\n",
       "                                                 ('cat',\n",
       "                                                  OneHotEncoder(categories='auto',\n",
       "                                                                drop=None,\n",
       "                                                                dtype=<class 'numpy.float64'>,\n",
       "                                                                handle_unknown=...\n",
       "                                            learning_rate=0.1, loss='deviance',\n",
       "                                            max_depth=3, max_features=None,\n",
       "                                            max_leaf_nodes=None,\n",
       "                                            min_impurity_decrease=0.0,\n",
       "                                            min_impurity_split=None,\n",
       "                                            min_samples_leaf=1,\n",
       "                                            min_samples_split=2,\n",
       "                                            min_weight_fraction_leaf=0.0,\n",
       "                                            n_estimators=100,\n",
       "                                            n_iter_no_change=None,\n",
       "                                            presort='deprecated',\n",
       "                                            random_state=None, subsample=1.0,\n",
       "                                            tol=0.0001, validation_fraction=0.1,\n",
       "                                            verbose=0, warm_start=False))],\n",
       "         verbose=False)"
      ]
     },
     "execution_count": 255,
     "metadata": {},
     "output_type": "execute_result"
    }
   ],
   "source": [
    "clf = Pipeline(steps=[('preprocessor', preprocessor),\n",
    "                          ('classifier', GradientBoostingClassifier())])\n",
    "clf.fit(X_train, y_train)"
   ]
  },
  {
   "cell_type": "code",
   "execution_count": 256,
   "metadata": {},
   "outputs": [],
   "source": [
    "# X_test['Predicted_probability'] = clf.predict_proba(X_test)[:, 1]"
   ]
  },
  {
   "cell_type": "code",
   "execution_count": 257,
   "metadata": {},
   "outputs": [],
   "source": [
    "# X_test['NPM_round'] = round(X_test['NPM'], 1)\n",
    "# pred = X_test.groupby('NPM_round').mean().reset_index()\n",
    "# results_npm['NPM_round'] = round(results_npm['NPM'], 1)\n",
    "# true = results_npm.groupby('NPM_round').mean().reset_index()\n",
    "# plt.figure(figsize=(7, 5))\n",
    "# plt.scatter(pred['NPM'], pred['Predicted_probability'], alpha=1, label='Predicted (test set)')\n",
    "# plt.scatter(true['NPM_round'], true['Present'], alpha=1, label='True labels')\n",
    "# plt.legend()\n",
    "# plt.xlabel('NPM (round to 1 digit)')\n",
    "# plt.ylabel('Probability of presence')\n",
    "# plt.ylim(0, 1)"
   ]
  },
  {
   "cell_type": "code",
   "execution_count": 258,
   "metadata": {},
   "outputs": [],
   "source": [
    "results_fam = []\n",
    "\n",
    "for _ in range(100):\n",
    "    X_train, X_test, y_train, y_test = train_test_split(X[['NPM', 'Family','Subfamily','Prob']], \n",
    "                                                        y, test_size=0.33, \n",
    "                                                        stratify=y)\n",
    "    clf = Pipeline(steps=[('preprocessor', preprocessor),\n",
    "                          ('classifier', GradientBoostingClassifier())])\n",
    "    clf.fit(X_train, y_train)\n",
    "    X_test['Predicted'] = clf.predict(X_test)\n",
    "    X_test['True'] = y_test\n",
    "    X_test = X_test[X_test['True'] == 1]\n",
    "    X_test.loc[X_test['True'] == X_test['Predicted'], 'Correct'.format(_)] = 1\n",
    "    X_test.loc[X_test['True'] !=  X_test['Predicted'], 'Correct'.format(_)] = 0\n",
    "    final = X_test[['Family', 'Correct']].groupby('Family').mean()\n",
    "    final['Run'] = 'Run {}'.format(_)\n",
    "    results_fam.append(final)\n",
    "results_fam = pd.concat(results_fam, axis=0).reset_index()\n",
    "results_fam['n of observations'] = results_fam['Family']\\\n",
    ".map(dict([(_[0], _[1]/x) \n",
    "           for _ in \n",
    "           Counter(results_npm['Family']).most_common(40)]))\n",
    "results_fam.to_csv('percent_correct_NPM_family.csv')"
   ]
  },
  {
   "cell_type": "code",
   "execution_count": 165,
   "metadata": {},
   "outputs": [],
   "source": [
    "X_train, X_test, y_train, y_test = train_test_split(X, y, test_size=0.33, stratify=y)"
   ]
  },
  {
   "cell_type": "code",
   "execution_count": 166,
   "metadata": {},
   "outputs": [],
   "source": [
    "clf = Pipeline(steps=[('preprocessor', preprocessor),\n",
    "                          ('classifier', GradientBoostingClassifier())])\n",
    "clf.fit(X_train, y_train)\n",
    "result = permutation_importance(clf, X_train, y_train, n_repeats=200, n_jobs=2, scoring='recall')\n",
    "sorted_idx = result.importances_mean.argsort()\n",
    "results_perm = pd.DataFrame(result.importances[sorted_idx].T, columns=np.array(X.columns)[sorted_idx])\n",
    "results_perm = results_perm.unstack().reset_index().drop(['level_1'], axis=1)\n",
    "results_perm.columns = ['Variable', 'Importance']\n",
    "results_perm['Set'] = 'Train'\n",
    "results_perm_t = results_perm"
   ]
  },
  {
   "cell_type": "code",
   "execution_count": 167,
   "metadata": {},
   "outputs": [],
   "source": [
    "result = permutation_importance(clf, X_test, y_test, n_repeats=200, n_jobs=2, scoring='recall')\n",
    "sorted_idx = result.importances_mean.argsort()\n",
    "results_perm = pd.DataFrame(result.importances[sorted_idx].T, columns=np.array(X.columns)[sorted_idx])\n",
    "results_perm = results_perm.unstack().reset_index().drop(['level_1'], axis=1)\n",
    "results_perm.columns = ['Variable', 'Importance']\n",
    "results_perm['Set'] = 'Test'\n",
    "results_perm.head(10)\n",
    "results_perm_tr = results_perm"
   ]
  },
  {
   "cell_type": "code",
   "execution_count": 168,
   "metadata": {},
   "outputs": [],
   "source": [
    "pd.concat([results_perm_t, results_perm_tr], axis=0).to_csv('sim_res_gbr_NPM.csv')"
   ]
  },
  {
   "cell_type": "markdown",
   "metadata": {},
   "source": [
    "Correct permutation importance:"
   ]
  },
  {
   "cell_type": "code",
   "execution_count": 261,
   "metadata": {},
   "outputs": [],
   "source": [
    "def get_perm_res(X=results_npm[['NPM', 'Family','Subfamily','Prob']]):\n",
    "    results_imp = []\n",
    "\n",
    "    for _ in range(100):\n",
    "        X_train, X_test, y_train, y_test = train_test_split(X, \n",
    "                                                            y, test_size=0.33, \n",
    "                                                            stratify=y)\n",
    "        clf = Pipeline(steps=[('preprocessor', preprocessor),\n",
    "                              ('classifier', GradientBoostingClassifier())])\n",
    "        clf.fit(X_train, y_train)\n",
    "        result = permutation_importance(clf, X_test, y_test, n_repeats=50, n_jobs=2, scoring='recall')\n",
    "        sorted_idx = result.importances_mean.argsort()\n",
    "        results_perm = pd.DataFrame(result.importances[sorted_idx].T, columns=np.array(X.columns)[sorted_idx])\n",
    "        results_perm = results_perm.unstack().reset_index().drop(['level_1'], axis=1)\n",
    "        results_perm.columns = ['Variable', 'Importance']\n",
    "        results_imp.append(results_perm)\n",
    "\n",
    "    results = pd.concat(results_imp, axis=0).groupby('Variable')\\\n",
    "    .agg(['mean', 'std']).reset_index()\n",
    "    results.columns = results.columns.droplevel()\n",
    "    print(results.sort_values(by='mean', ascending=False).to_latex(index=False))"
   ]
  },
  {
   "cell_type": "code",
   "execution_count": 246,
   "metadata": {},
   "outputs": [
    {
     "name": "stdout",
     "output_type": "stream",
     "text": [
      "\\begin{tabular}{lrr}\n",
      "\\toprule\n",
      "           &      mean &       std \\\\\n",
      "\\midrule\n",
      "       NPM &  0.329899 &  0.016609 \\\\\n",
      " Subfamily &  0.047593 &  0.013163 \\\\\n",
      "    Family &  0.000686 &  0.010122 \\\\\n",
      "      Prob & -0.004599 &  0.009084 \\\\\n",
      "\\bottomrule\n",
      "\\end{tabular}\n",
      "\n"
     ]
    }
   ],
   "source": [
    "get_perm_res()"
   ]
  },
  {
   "cell_type": "code",
   "execution_count": 244,
   "metadata": {},
   "outputs": [
    {
     "name": "stdout",
     "output_type": "stream",
     "text": [
      "\\begin{tabular}{lrr}\n",
      "\\toprule\n",
      "           &      mean &       std \\\\\n",
      "\\midrule\n",
      "       NPM &  0.320527 &  0.019000 \\\\\n",
      " Subfamily &  0.039515 &  0.012052 \\\\\n",
      "  Language &  0.009574 &  0.008192 \\\\\n",
      "    Family &  0.007977 &  0.010494 \\\\\n",
      "      Prob & -0.001553 &  0.008958 \\\\\n",
      "\\bottomrule\n",
      "\\end{tabular}\n",
      "\n"
     ]
    }
   ],
   "source": [
    "get_perm_res(results_npm[['NPM', 'Family','Subfamily','Prob', 'Language']])"
   ]
  }
 ],
 "metadata": {
  "kernelspec": {
   "display_name": "Python 3",
   "language": "python",
   "name": "python3"
  },
  "language_info": {
   "codemirror_mode": {
    "name": "ipython",
    "version": 3
   },
   "file_extension": ".py",
   "mimetype": "text/x-python",
   "name": "python",
   "nbconvert_exporter": "python",
   "pygments_lexer": "ipython3",
   "version": "3.8.1"
  }
 },
 "nbformat": 4,
 "nbformat_minor": 4
}
